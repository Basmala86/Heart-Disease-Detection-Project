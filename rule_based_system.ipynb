{
 "cells": [
  {
   "cell_type": "code",
   "execution_count": 3,
   "metadata": {},
   "outputs": [],
   "source": [
    "from experta.fact import Fact\n",
    "from experta.engine import KnowledgeEngine, Rule"
   ]
  },
  {
   "cell_type": "code",
   "execution_count": 5,
   "metadata": {},
   "outputs": [
    {
     "ename": "NameError",
     "evalue": "name 'freeze' is not defined",
     "output_type": "error",
     "traceback": [
      "\u001b[31m---------------------------------------------------------------------------\u001b[39m",
      "\u001b[31mNameError\u001b[39m                                 Traceback (most recent call last)",
      "\u001b[36mCell\u001b[39m\u001b[36m \u001b[39m\u001b[32mIn[5]\u001b[39m\u001b[32m, line 2\u001b[39m\n\u001b[32m      1\u001b[39m \u001b[38;5;66;03m# Define the KnowledgeEngine class\u001b[39;00m\n\u001b[32m----> \u001b[39m\u001b[32m2\u001b[39m \u001b[38;5;28;43;01mclass\u001b[39;49;00m\u001b[38;5;250;43m \u001b[39;49m\u001b[34;43;01mHeartDiseaseRules\u001b[39;49;00m\u001b[43m(\u001b[49m\u001b[43mKnowledgeEngine\u001b[49m\u001b[43m)\u001b[49m\u001b[43m:\u001b[49m\n\u001b[32m      3\u001b[39m \u001b[43m    \u001b[49m\u001b[38;5;28;43;01mdef\u001b[39;49;00m\u001b[38;5;250;43m \u001b[39;49m\u001b[34;43m__init__\u001b[39;49m\u001b[43m(\u001b[49m\u001b[38;5;28;43mself\u001b[39;49m\u001b[43m)\u001b[49m\u001b[43m:\u001b[49m\n\u001b[32m      4\u001b[39m \u001b[43m        \u001b[49m\u001b[38;5;28;43msuper\u001b[39;49m\u001b[43m(\u001b[49m\u001b[43m)\u001b[49m\u001b[43m.\u001b[49m\u001b[34;43m__init__\u001b[39;49m\u001b[43m(\u001b[49m\u001b[43m)\u001b[49m\n",
      "\u001b[36mCell\u001b[39m\u001b[36m \u001b[39m\u001b[32mIn[5]\u001b[39m\u001b[32m, line 8\u001b[39m, in \u001b[36mHeartDiseaseRules\u001b[39m\u001b[34m()\u001b[39m\n\u001b[32m      5\u001b[39m     \u001b[38;5;28mself\u001b[39m.declare(Fact(action=\u001b[33m\"\u001b[39m\u001b[33mfind_risk\u001b[39m\u001b[33m\"\u001b[39m))\n\u001b[32m      7\u001b[39m \u001b[38;5;66;03m# Rule 1: High cholesterol and age > 50\u001b[39;00m\n\u001b[32m----> \u001b[39m\u001b[32m8\u001b[39m \u001b[38;5;129m@Rule\u001b[39m(\u001b[43mFact\u001b[49m\u001b[43m(\u001b[49m\u001b[43mcholesterol\u001b[49m\u001b[43m=\u001b[49m\u001b[38;5;28;43;01mlambda\u001b[39;49;00m\u001b[43m \u001b[49m\u001b[43mx\u001b[49m\u001b[43m:\u001b[49m\u001b[43m \u001b[49m\u001b[43mx\u001b[49m\u001b[43m \u001b[49m\u001b[43m>\u001b[49m\u001b[43m \u001b[49m\u001b[32;43m240\u001b[39;49m\u001b[43m)\u001b[49m, Fact(age=\u001b[38;5;28;01mlambda\u001b[39;00m x: x > \u001b[32m50\u001b[39m))\n\u001b[32m      9\u001b[39m \u001b[38;5;28;01mdef\u001b[39;00m\u001b[38;5;250m \u001b[39m\u001b[34mhigh_risk_rule1\u001b[39m(\u001b[38;5;28mself\u001b[39m):\n\u001b[32m     10\u001b[39m     \u001b[38;5;28mself\u001b[39m.declare(Fact(risk=\u001b[33m\"\u001b[39m\u001b[33mhigh\u001b[39m\u001b[33m\"\u001b[39m))\n\u001b[32m     12\u001b[39m \u001b[38;5;66;03m# Rule 2: High blood pressure and smoking\u001b[39;00m\n",
      "\u001b[36mFile \u001b[39m\u001b[32mc:\\Users\\HP\\AppData\\Local\\Programs\\Python\\Python311\\Lib\\site-packages\\experta\\fact.py:60\u001b[39m, in \u001b[36mFact.__init__\u001b[39m\u001b[34m(self, *args, **kwargs)\u001b[39m\n\u001b[32m     59\u001b[39m \u001b[38;5;28;01mdef\u001b[39;00m\u001b[38;5;250m \u001b[39m\u001b[34m__init__\u001b[39m(\u001b[38;5;28mself\u001b[39m, *args, **kwargs):\n\u001b[32m---> \u001b[39m\u001b[32m60\u001b[39m     \u001b[38;5;28;43mself\u001b[39;49m\u001b[43m.\u001b[49m\u001b[43mupdate\u001b[49m\u001b[43m(\u001b[49m\u001b[38;5;28;43mdict\u001b[39;49m\u001b[43m(\u001b[49m\u001b[43mchain\u001b[49m\u001b[43m(\u001b[49m\u001b[38;5;28;43menumerate\u001b[39;49m\u001b[43m(\u001b[49m\u001b[43margs\u001b[49m\u001b[43m)\u001b[49m\u001b[43m,\u001b[49m\u001b[43m \u001b[49m\u001b[43mkwargs\u001b[49m\u001b[43m.\u001b[49m\u001b[43mitems\u001b[49m\u001b[43m(\u001b[49m\u001b[43m)\u001b[49m\u001b[43m)\u001b[49m\u001b[43m)\u001b[49m\u001b[43m)\u001b[49m\n\u001b[32m     61\u001b[39m     \u001b[38;5;28mself\u001b[39m.__defaults = \u001b[38;5;28mdict\u001b[39m()\n",
      "\u001b[36mFile \u001b[39m\u001b[32mc:\\Users\\HP\\AppData\\Local\\Programs\\Python\\Python311\\Lib\\site-packages\\experta\\fact.py:101\u001b[39m, in \u001b[36mFact.update\u001b[39m\u001b[34m(self, mapping)\u001b[39m\n\u001b[32m     99\u001b[39m \u001b[38;5;28;01mdef\u001b[39;00m\u001b[38;5;250m \u001b[39m\u001b[34mupdate\u001b[39m(\u001b[38;5;28mself\u001b[39m, mapping):\n\u001b[32m    100\u001b[39m     \u001b[38;5;28;01mfor\u001b[39;00m k, v \u001b[38;5;129;01min\u001b[39;00m mapping.items():\n\u001b[32m--> \u001b[39m\u001b[32m101\u001b[39m         \u001b[38;5;28;43mself\u001b[39;49m\u001b[43m[\u001b[49m\u001b[43mk\u001b[49m\u001b[43m]\u001b[49m = v\n",
      "\u001b[36mFile \u001b[39m\u001b[32mc:\\Users\\HP\\AppData\\Local\\Programs\\Python\\Python311\\Lib\\site-packages\\experta\\fact.py:79\u001b[39m, in \u001b[36mFact.__setitem__\u001b[39m\u001b[34m(self, key, value)\u001b[39m\n\u001b[32m     77\u001b[39m \u001b[38;5;28;01mdef\u001b[39;00m\u001b[38;5;250m \u001b[39m\u001b[34m__setitem__\u001b[39m(\u001b[38;5;28mself\u001b[39m, key, value):\n\u001b[32m     78\u001b[39m     \u001b[38;5;28;01mif\u001b[39;00m \u001b[38;5;28mself\u001b[39m.__factid__ \u001b[38;5;129;01mis\u001b[39;00m \u001b[38;5;28;01mNone\u001b[39;00m:\n\u001b[32m---> \u001b[39m\u001b[32m79\u001b[39m         \u001b[38;5;28msuper\u001b[39m().\u001b[34m__setitem__\u001b[39m(key, \u001b[43mfreeze\u001b[49m(value))\n\u001b[32m     80\u001b[39m     \u001b[38;5;28;01melse\u001b[39;00m:\n\u001b[32m     81\u001b[39m         \u001b[38;5;28;01mraise\u001b[39;00m \u001b[38;5;167;01mRuntimeError\u001b[39;00m(\u001b[33m\"\u001b[39m\u001b[33mA fact can\u001b[39m\u001b[33m'\u001b[39m\u001b[33mt be modified after declaration.\u001b[39m\u001b[33m\"\u001b[39m)\n",
      "\u001b[31mNameError\u001b[39m: name 'freeze' is not defined"
     ]
    }
   ],
   "source": [
    "\n",
    "# Define the KnowledgeEngine class\n",
    "class HeartDiseaseRules(KnowledgeEngine):\n",
    "    def __init__(self):\n",
    "        super().__init__()\n",
    "        self.declare(Fact(action=\"find_risk\"))\n",
    "\n",
    "    # Rule 1: High cholesterol and age > 50\n",
    "    @Rule(Fact(cholesterol=lambda x: x > 240), Fact(age=lambda x: x > 50))\n",
    "    def high_risk_rule1(self):\n",
    "        self.declare(Fact(risk=\"high\"))\n",
    "\n",
    "    # Rule 2: High blood pressure and smoking\n",
    "    @Rule(Fact(trestbps=lambda x: x > 140), Fact(smoking=\"Yes\"))\n",
    "    def high_risk_rule2(self):\n",
    "        self.declare(Fact(risk=\"high\"))\n",
    "\n",
    "    # Rule 3: Regular exercise and BMI < 25\n",
    "    @Rule(Fact(exercise=\"Regular\"), Fact(BMI=lambda x: x < 25))\n",
    "    def low_risk_rule3(self):\n",
    "        self.declare(Fact(risk=\"low\"))\n",
    "\n",
    "# Example usage\n",
    "engine = HeartDiseaseRules()\n",
    "engine.reset()\n",
    "\n",
    "# Declare additional facts\n",
    "engine.declare(Fact(cholesterol=250, age=55, trestbps=145, smoking=\"Yes\", exercise=\"Regular\", BMI=22))\n",
    "\n",
    "# Run the engine\n",
    "engine.run()\n",
    "\n",
    "# Check the results\n",
    "for fact in engine.facts:\n",
    "    if fact[\"risk\"]:\n",
    "        print(f\"Risk Level: {fact['risk']}\")"
   ]
  }
 ],
 "metadata": {
  "kernelspec": {
   "display_name": "Python 3",
   "language": "python",
   "name": "python3"
  },
  "language_info": {
   "codemirror_mode": {
    "name": "ipython",
    "version": 3
   },
   "file_extension": ".py",
   "mimetype": "text/x-python",
   "name": "python",
   "nbconvert_exporter": "python",
   "pygments_lexer": "ipython3",
   "version": "3.11.4"
  }
 },
 "nbformat": 4,
 "nbformat_minor": 2
}
